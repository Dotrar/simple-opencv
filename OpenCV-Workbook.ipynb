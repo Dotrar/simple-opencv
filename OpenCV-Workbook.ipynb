{
 "metadata": {
  "language_info": {
   "codemirror_mode": {
    "name": "ipython",
    "version": 3
   },
   "file_extension": ".py",
   "mimetype": "text/x-python",
   "name": "python",
   "nbconvert_exporter": "python",
   "pygments_lexer": "ipython3",
   "version": "3.8.5"
  },
  "orig_nbformat": 2,
  "kernelspec": {
   "name": "python385jvsc74a57bd0738d3aba0355ef2d4c4d5621637f2966c8cccd2d7de3ec1cc43188ba2950123a",
   "display_name": "Python 3.8.5 64-bit ('.env')"
  },
  "metadata": {
   "interpreter": {
    "hash": "738d3aba0355ef2d4c4d5621637f2966c8cccd2d7de3ec1cc43188ba2950123a"
   }
  }
 },
 "nbformat": 4,
 "nbformat_minor": 2,
 "cells": [
  {
   "source": [
    "# OpenCV Simple example\n",
    "going through some simple tests to make sure the camera works as expected\n",
    "This is using the `opencv` library, install via pip with `opencv-python`\n"
   ],
   "cell_type": "markdown",
   "metadata": {}
  },
  {
   "cell_type": "code",
   "execution_count": 1,
   "metadata": {},
   "outputs": [],
   "source": [
    "'''\n",
    "Does the camera work correctly? \n",
    "\n",
    "Basically look for \"opencv camera tutorial\" on your platform and start from there.\n",
    "'''\n",
    "import cv2\n",
    "import numpy as np\n",
    "\n",
    "# I know it's '2' from before\n",
    "interface=2\n",
    "camera = None\n",
    "camera = cv2.VideoCapture(interface)\n",
    "\n",
    "while True:\n",
    "    _, img = camera.read()\n",
    "    if img is None:\n",
    "        print(f\"Unable to open camera {interface=}\")\n",
    "        break\n",
    "    cv2.imshow(\"simple camera test\", img)\n",
    "    if cv2.waitKey(1) == 27:\n",
    "        break\n",
    "\n",
    "cv2.destroyAllWindows()"
   ]
  },
  {
   "cell_type": "code",
   "execution_count": 2,
   "metadata": {},
   "outputs": [],
   "source": [
    "# Part 0 - breaking up the image\n",
    "\n",
    "while True: \n",
    "    _, imag = camera.read()\n",
    "    if img is None:\n",
    "        print(f\"Unable to open camera {interface=}\")\n",
    "        break\n",
    "    # split image\n",
    "    b_img = img[:,:,0]\n",
    "    g_img = img[:,:,1]\n",
    "    r_img = img[:,:,2]\n",
    "    # stack next to each other\n",
    "    hz = np.hstack((b_img,g_img,r_img))\n",
    "    cv2.imshow('3 Stack', hz)\n",
    "    if cv2.waitKey(1) == 27:\n",
    "        break\n",
    "\n",
    "cv2.destroyAllWindows()"
   ]
  },
  {
   "source": [
    "# Part 1 - Thresholding\n",
    "\n",
    "```python\n",
    "for pixel in image:\n",
    "    if pixel.value > thresh:\n",
    "        pixel = BLACK\n",
    "    else:\n",
    "        pixel = WHITE\n",
    "```"
   ],
   "cell_type": "markdown",
   "metadata": {}
  }
 ]
}